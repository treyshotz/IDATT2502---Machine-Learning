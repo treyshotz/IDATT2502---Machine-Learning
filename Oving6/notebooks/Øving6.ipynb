{
 "cells": [
  {
   "cell_type": "markdown",
   "source": [
    "# Exercise 6"
   ],
   "metadata": {}
  },
  {
   "cell_type": "markdown",
   "source": [
    "\n",
    "#### Task 1\n",
    "* Using the UCI mushroom dataset from the last exercise, perform a feature selection using a classifier evaluator. Which features are most discriminitave?\n"
   ],
   "metadata": {
    "tags": []
   }
  },
  {
   "cell_type": "code",
   "execution_count": 122,
   "source": [
    "import os\n",
    "import pandas as pd\n",
    "from sklearn.feature_selection import SelectKBest\n",
    "from sklearn.feature_selection import chi2\n",
    "\n",
    "print(os.getcwd())\n",
    "\n",
    "df = pd.read_csv(\"agaricus-lepiota.csv\")\n",
    "df.describe()\n",
    "\n",
    "x_train = pd.get_dummies(df)\n",
    "y_train = pd.get_dummies(df['edibility'])\n",
    "\n",
    "print(f\"x_train; {x_train.shape}\")\n",
    "print(f\"y_train; {y_train.shape}\")\n",
    "\n",
    "k_best = SelectKBest(chi2, k=10)\n",
    "k_best.fit(x_train, y_train)\n",
    "new = k_best.transform(x_train)\n",
    "\n",
    "print(new.shape)\n",
    "print(f\"Most discrimitve features are: {k_best.get_feature_names_out()}\")\n"
   ],
   "outputs": [
    {
     "name": "stdout",
     "output_type": "stream",
     "text": [
      "/home/mlundegaard/Documents/School/Maskinlæring/Oving6/notebooks\n",
      "x_train; (8124, 119)\n",
      "y_train; (8124, 2)\n",
      "(8124, 10)\n",
      "Most discrimitve features are: ['edibility_e' 'edibility_p' 'odor_f' 'odor_n' 'gill-size_n'\n",
      " 'gill-color_b' 'stalk-surface-above-ring_k' 'stalk-surface-below-ring_k'\n",
      " 'ring-type_l' 'spore-print-color_h']\n"
     ]
    }
   ],
   "metadata": {}
  },
  {
   "cell_type": "markdown",
   "source": [
    "* Use principal components analysis to construct a reduced space. Which combination of features explain the most variance in the dataset?"
   ],
   "metadata": {}
  },
  {
   "cell_type": "code",
   "execution_count": 123,
   "source": [
    "import numpy as np\n",
    "from sklearn.decomposition import PCA\n",
    "from sklearn import preprocessing\n",
    "import matplotlib.pyplot as plt\n",
    "\n",
    "data_scaled = pd.DataFrame(preprocessing.scale(x_train), columns=x_train.columns)\n",
    "pca = PCA(n_components=10)\n",
    "X_new = pca.fit_transform(data_scaled)\n",
    "\n",
    "\n",
    "\n",
    "print(pca.components_.shape)\n",
    "print(f\"{X_new.shape}\")\n",
    "features = [pca.components_[i].argmax() for i in range(X_new.shape[1])]\n",
    "print(pca.explained_variance_ratio_)\n",
    "\n",
    "n_pcs= pca.components_.shape[0]\n",
    "most_important = [np.abs(pca.components_[i]).argmax() for i in range(n_pcs)]\n",
    "most_important_names = [data_scaled.columns[most_important[i]] for i in range(n_pcs)]\n",
    "\n",
    "print(most_important_names)\n",
    "\n",
    "print(set(k_best.get_feature_names_out()).intersection(set(most_important_names)))"
   ],
   "outputs": [
    {
     "name": "stdout",
     "output_type": "stream",
     "text": [
      "(10, 119)\n",
      "(8124, 10)\n",
      "[0.0990908  0.07989076 0.07085669 0.05764528 0.05106432 0.04323387\n",
      " 0.04056558 0.02798131 0.02457451 0.02287476]\n",
      "['edibility_e', 'stalk-root_?', 'gill-attachment_a', 'habitat_g', 'odor_m', 'stalk-color-above-ring_c', 'habitat_w', 'stalk-color-above-ring_y', 'habitat_u', 'stalk-root_r']\n",
      "{'edibility_e'}\n"
     ]
    }
   ],
   "metadata": {
    "pycharm": {
     "name": "#%%\n"
    }
   }
  },
  {
   "cell_type": "markdown",
   "source": [
    "Because the y value used in feature selection is edibility, edibility is one of the most discriminative features.\n",
    "It does appear in both PCA and feature selection, as well does odor (different types)."
   ],
   "metadata": {
    "collapsed": false,
    "pycharm": {
     "name": "#%% md\n"
    }
   }
  }
 ],
 "metadata": {
  "kernelspec": {
   "name": "python3",
   "language": "python",
   "display_name": "Python 3 (ipykernel)"
  },
  "language_info": {
   "codemirror_mode": {
    "name": "ipython",
    "version": 3
   },
   "file_extension": ".py",
   "mimetype": "text/x-python",
   "name": "python",
   "nbconvert_exporter": "python",
   "pygments_lexer": "ipython3",
   "version": "3.8.10"
  },
  "interpreter": {
   "hash": "916dbcbb3f70747c44a77c7bcd40155683ae19c65e1c03b4aa3499c5328201f1"
  }
 },
 "nbformat": 4,
 "nbformat_minor": 5
}