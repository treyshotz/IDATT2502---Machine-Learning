{
 "cells": [
  {
   "cell_type": "code",
   "execution_count": 1,
   "metadata": {
    "collapsed": true
   },
   "outputs": [
    {
     "name": "stdout",
     "output_type": "stream",
     "text": [
      "(array([ 0.01991192,  0.24014533,  0.03064955, -0.28095847], dtype=float32), 1.0, False, {})\n",
      "(array([ 0.02471483,  0.434817  ,  0.02503038, -0.5638192 ], dtype=float32), 1.0, False, {})\n",
      "(array([ 0.03341117,  0.62957895,  0.013754  , -0.84851253], dtype=float32), 1.0, False, {})\n",
      "(array([ 0.04600275,  0.82451063, -0.00321625, -1.1368388 ], dtype=float32), 1.0, False, {})\n",
      "(array([ 0.06249296,  1.0196745 , -0.02595303, -1.4305288 ], dtype=float32), 1.0, False, {})\n",
      "(array([ 0.08288645,  1.2151071 , -0.0545636 , -1.7312081 ], dtype=float32), 1.0, False, {})\n",
      "(array([ 0.10718859,  1.410808  , -0.08918776, -2.0403564 ], dtype=float32), 1.0, False, {})\n",
      "(array([ 0.13540475,  1.6067266 , -0.12999488, -2.359253  ], dtype=float32), 1.0, False, {})\n",
      "(array([ 0.16753928,  1.8027471 , -0.17717995, -2.6889136 ], dtype=float32), 1.0, False, {})\n",
      "(array([ 0.20359422,  1.9986686 , -0.23095822, -3.0300138 ], dtype=float32), 1.0, True, {})\n"
     ]
    }
   ],
   "source": [
    "\n",
    "import gym\n",
    "\n",
    "env = gym.make('CartPole-v0')\n",
    "env.reset()\n",
    "\n",
    "?env.env\n",
    "\n",
    "for i in range(10):\n",
    "    env.render()\n",
    "    step = env.step(1)\n",
    "    print(step)"
   ]
  }
 ],
 "metadata": {
  "kernelspec": {
   "display_name": "Python 3",
   "language": "python",
   "name": "python3"
  },
  "language_info": {
   "codemirror_mode": {
    "name": "ipython",
    "version": 2
   },
   "file_extension": ".py",
   "mimetype": "text/x-python",
   "name": "python",
   "nbconvert_exporter": "python",
   "pygments_lexer": "ipython2",
   "version": "2.7.6"
  }
 },
 "nbformat": 4,
 "nbformat_minor": 0
}